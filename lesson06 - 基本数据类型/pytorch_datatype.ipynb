{
 "cells": [
  {
   "cell_type": "code",
   "execution_count": 1,
   "id": "initial_id",
   "metadata": {
    "collapsed": true,
    "ExecuteTime": {
     "end_time": "2024-02-26T21:17:26.508106Z",
     "start_time": "2024-02-26T21:17:25.886459Z"
    }
   },
   "outputs": [],
   "source": [
    "import torch"
   ]
  },
  {
   "cell_type": "code",
   "outputs": [],
   "source": [
    "a = torch.randn(2,3)"
   ],
   "metadata": {
    "collapsed": false,
    "ExecuteTime": {
     "end_time": "2024-02-26T21:17:26.512061Z",
     "start_time": "2024-02-26T21:17:26.508669Z"
    }
   },
   "id": "f450238de1eaa46d",
   "execution_count": 2
  },
  {
   "cell_type": "code",
   "outputs": [
    {
     "data": {
      "text/plain": "tensor([[ 1.0628, -0.4108,  0.7000],\n        [-1.2468, -1.6652,  0.1126]])"
     },
     "execution_count": 3,
     "metadata": {},
     "output_type": "execute_result"
    }
   ],
   "source": [
    "a"
   ],
   "metadata": {
    "collapsed": false,
    "ExecuteTime": {
     "end_time": "2024-02-26T21:17:26.516038Z",
     "start_time": "2024-02-26T21:17:26.512973Z"
    }
   },
   "id": "2169509d73c59041",
   "execution_count": 3
  },
  {
   "cell_type": "code",
   "outputs": [
    {
     "data": {
      "text/plain": "'torch.FloatTensor'"
     },
     "execution_count": 4,
     "metadata": {},
     "output_type": "execute_result"
    }
   ],
   "source": [
    "a.type()"
   ],
   "metadata": {
    "collapsed": false,
    "ExecuteTime": {
     "end_time": "2024-02-26T21:17:26.519521Z",
     "start_time": "2024-02-26T21:17:26.517390Z"
    }
   },
   "id": "65d559b02bdf8f31",
   "execution_count": 4
  },
  {
   "cell_type": "code",
   "outputs": [
    {
     "data": {
      "text/plain": "torch.Tensor"
     },
     "execution_count": 5,
     "metadata": {},
     "output_type": "execute_result"
    }
   ],
   "source": [
    "torch.Tensor"
   ],
   "metadata": {
    "collapsed": false,
    "ExecuteTime": {
     "end_time": "2024-02-26T21:17:26.522863Z",
     "start_time": "2024-02-26T21:17:26.520344Z"
    }
   },
   "id": "13d81eca8389daa1",
   "execution_count": 5
  },
  {
   "cell_type": "code",
   "outputs": [
    {
     "data": {
      "text/plain": "True"
     },
     "execution_count": 6,
     "metadata": {},
     "output_type": "execute_result"
    }
   ],
   "source": [
    "isinstance(a,torch.FloatTensor)"
   ],
   "metadata": {
    "collapsed": false,
    "ExecuteTime": {
     "end_time": "2024-02-26T21:17:26.526314Z",
     "start_time": "2024-02-26T21:17:26.523076Z"
    }
   },
   "id": "293d1609bd7ba8da",
   "execution_count": 6
  },
  {
   "cell_type": "code",
   "outputs": [
    {
     "data": {
      "text/plain": "False"
     },
     "execution_count": 7,
     "metadata": {},
     "output_type": "execute_result"
    }
   ],
   "source": [
    "isinstance(a,torch.cuda.FloatTensor)"
   ],
   "metadata": {
    "collapsed": false,
    "ExecuteTime": {
     "end_time": "2024-02-26T21:17:26.529649Z",
     "start_time": "2024-02-26T21:17:26.526062Z"
    }
   },
   "id": "b3c9575cb152c47e",
   "execution_count": 7
  },
  {
   "cell_type": "code",
   "outputs": [
    {
     "ename": "AssertionError",
     "evalue": "Torch not compiled with CUDA enabled",
     "output_type": "error",
     "traceback": [
      "\u001B[0;31m---------------------------------------------------------------------------\u001B[0m",
      "\u001B[0;31mAssertionError\u001B[0m                            Traceback (most recent call last)",
      "Cell \u001B[0;32mIn[8], line 1\u001B[0m\n\u001B[0;32m----> 1\u001B[0m a \u001B[38;5;241m=\u001B[39m \u001B[43ma\u001B[49m\u001B[38;5;241;43m.\u001B[39;49m\u001B[43mcuda\u001B[49m\u001B[43m(\u001B[49m\u001B[43m)\u001B[49m\n",
      "File \u001B[0;32m~/anaconda3/envs/ml-dl-study/lib/python3.10/site-packages/torch/cuda/__init__.py:293\u001B[0m, in \u001B[0;36m_lazy_init\u001B[0;34m()\u001B[0m\n\u001B[1;32m    288\u001B[0m     \u001B[38;5;28;01mraise\u001B[39;00m \u001B[38;5;167;01mRuntimeError\u001B[39;00m(\n\u001B[1;32m    289\u001B[0m         \u001B[38;5;124m\"\u001B[39m\u001B[38;5;124mCannot re-initialize CUDA in forked subprocess. To use CUDA with \u001B[39m\u001B[38;5;124m\"\u001B[39m\n\u001B[1;32m    290\u001B[0m         \u001B[38;5;124m\"\u001B[39m\u001B[38;5;124mmultiprocessing, you must use the \u001B[39m\u001B[38;5;124m'\u001B[39m\u001B[38;5;124mspawn\u001B[39m\u001B[38;5;124m'\u001B[39m\u001B[38;5;124m start method\u001B[39m\u001B[38;5;124m\"\u001B[39m\n\u001B[1;32m    291\u001B[0m     )\n\u001B[1;32m    292\u001B[0m \u001B[38;5;28;01mif\u001B[39;00m \u001B[38;5;129;01mnot\u001B[39;00m \u001B[38;5;28mhasattr\u001B[39m(torch\u001B[38;5;241m.\u001B[39m_C, \u001B[38;5;124m\"\u001B[39m\u001B[38;5;124m_cuda_getDeviceCount\u001B[39m\u001B[38;5;124m\"\u001B[39m):\n\u001B[0;32m--> 293\u001B[0m     \u001B[38;5;28;01mraise\u001B[39;00m \u001B[38;5;167;01mAssertionError\u001B[39;00m(\u001B[38;5;124m\"\u001B[39m\u001B[38;5;124mTorch not compiled with CUDA enabled\u001B[39m\u001B[38;5;124m\"\u001B[39m)\n\u001B[1;32m    294\u001B[0m \u001B[38;5;28;01mif\u001B[39;00m _cudart \u001B[38;5;129;01mis\u001B[39;00m \u001B[38;5;28;01mNone\u001B[39;00m:\n\u001B[1;32m    295\u001B[0m     \u001B[38;5;28;01mraise\u001B[39;00m \u001B[38;5;167;01mAssertionError\u001B[39;00m(\n\u001B[1;32m    296\u001B[0m         \u001B[38;5;124m\"\u001B[39m\u001B[38;5;124mlibcudart functions unavailable. It looks like you have a broken build?\u001B[39m\u001B[38;5;124m\"\u001B[39m\n\u001B[1;32m    297\u001B[0m     )\n",
      "\u001B[0;31mAssertionError\u001B[0m: Torch not compiled with CUDA enabled"
     ]
    }
   ],
   "source": [
    "a = a.cuda()"
   ],
   "metadata": {
    "collapsed": false,
    "ExecuteTime": {
     "end_time": "2024-02-26T21:17:26.803248Z",
     "start_time": "2024-02-26T21:17:26.529109Z"
    }
   },
   "id": "92eef4e643be5de2",
   "execution_count": 8
  },
  {
   "cell_type": "code",
   "outputs": [
    {
     "data": {
      "text/plain": "False"
     },
     "execution_count": 9,
     "metadata": {},
     "output_type": "execute_result"
    }
   ],
   "source": [
    "isinstance(a,torch.cuda.FloatTensor)"
   ],
   "metadata": {
    "collapsed": false,
    "ExecuteTime": {
     "end_time": "2024-02-26T21:17:40.753170Z",
     "start_time": "2024-02-26T21:17:40.749450Z"
    }
   },
   "id": "a13f98554fe7b2d2",
   "execution_count": 9
  },
  {
   "cell_type": "code",
   "outputs": [],
   "source": [
    "a = torch.Tensor(0)"
   ],
   "metadata": {
    "collapsed": false,
    "ExecuteTime": {
     "end_time": "2024-02-26T21:18:43.246874Z",
     "start_time": "2024-02-26T21:18:43.242701Z"
    }
   },
   "id": "ab141aca77cd16d1",
   "execution_count": 16
  },
  {
   "cell_type": "code",
   "outputs": [
    {
     "data": {
      "text/plain": "torch.Size([0])"
     },
     "execution_count": 17,
     "metadata": {},
     "output_type": "execute_result"
    }
   ],
   "source": [
    "a.shape"
   ],
   "metadata": {
    "collapsed": false,
    "ExecuteTime": {
     "end_time": "2024-02-26T21:18:43.726140Z",
     "start_time": "2024-02-26T21:18:43.724180Z"
    }
   },
   "id": "f12396d1591bc256",
   "execution_count": 17
  },
  {
   "cell_type": "code",
   "outputs": [
    {
     "data": {
      "text/plain": "1"
     },
     "execution_count": 18,
     "metadata": {},
     "output_type": "execute_result"
    }
   ],
   "source": [
    "len(a.shape)"
   ],
   "metadata": {
    "collapsed": false,
    "ExecuteTime": {
     "end_time": "2024-02-26T21:18:44.241697Z",
     "start_time": "2024-02-26T21:18:44.238174Z"
    }
   },
   "id": "a273d7cd7b05d9e3",
   "execution_count": 18
  },
  {
   "cell_type": "code",
   "outputs": [
    {
     "data": {
      "text/plain": "torch.Size([0])"
     },
     "execution_count": 19,
     "metadata": {},
     "output_type": "execute_result"
    }
   ],
   "source": [
    "a.size()"
   ],
   "metadata": {
    "collapsed": false,
    "ExecuteTime": {
     "end_time": "2024-02-26T21:18:58.964134Z",
     "start_time": "2024-02-26T21:18:58.960681Z"
    }
   },
   "id": "b55303eabe5cc7d6",
   "execution_count": 19
  },
  {
   "cell_type": "code",
   "outputs": [
    {
     "data": {
      "text/plain": "tensor([1.1000])"
     },
     "execution_count": 20,
     "metadata": {},
     "output_type": "execute_result"
    }
   ],
   "source": [
    "torch.Tensor([1.1])"
   ],
   "metadata": {
    "collapsed": false,
    "ExecuteTime": {
     "end_time": "2024-02-26T21:21:16.410030Z",
     "start_time": "2024-02-26T21:21:16.405350Z"
    }
   },
   "id": "f0007b7d0376c6e1",
   "execution_count": 20
  },
  {
   "cell_type": "code",
   "outputs": [
    {
     "data": {
      "text/plain": "tensor([1.1000, 2.2000])"
     },
     "execution_count": 21,
     "metadata": {},
     "output_type": "execute_result"
    }
   ],
   "source": [
    "torch.Tensor([1.1,2.2])"
   ],
   "metadata": {
    "collapsed": false,
    "ExecuteTime": {
     "end_time": "2024-02-26T21:21:29.947715Z",
     "start_time": "2024-02-26T21:21:29.942031Z"
    }
   },
   "id": "3c7f119cad65a812",
   "execution_count": 21
  },
  {
   "cell_type": "code",
   "outputs": [
    {
     "data": {
      "text/plain": "tensor([0.])"
     },
     "execution_count": 22,
     "metadata": {},
     "output_type": "execute_result"
    }
   ],
   "source": [
    "torch.Tensor(1)"
   ],
   "metadata": {
    "collapsed": false,
    "ExecuteTime": {
     "end_time": "2024-02-26T21:21:55.118191Z",
     "start_time": "2024-02-26T21:21:55.115361Z"
    }
   },
   "id": "dee0436e5a243b58",
   "execution_count": 22
  },
  {
   "cell_type": "code",
   "outputs": [],
   "source": [
    "a = torch.ones(2)"
   ],
   "metadata": {
    "collapsed": false,
    "ExecuteTime": {
     "end_time": "2024-02-26T21:25:26.498899Z",
     "start_time": "2024-02-26T21:25:26.495571Z"
    }
   },
   "id": "3e1a094c525c0e33",
   "execution_count": 23
  },
  {
   "cell_type": "code",
   "outputs": [
    {
     "data": {
      "text/plain": "torch.Size([2])"
     },
     "execution_count": 24,
     "metadata": {},
     "output_type": "execute_result"
    }
   ],
   "source": [
    "a.shape"
   ],
   "metadata": {
    "collapsed": false,
    "ExecuteTime": {
     "end_time": "2024-02-26T21:25:30.060708Z",
     "start_time": "2024-02-26T21:25:30.056250Z"
    }
   },
   "id": "ce15192ea0e42bde",
   "execution_count": 24
  },
  {
   "cell_type": "code",
   "outputs": [],
   "source": [
    "a = torch.randn(2,3)"
   ],
   "metadata": {
    "collapsed": false,
    "ExecuteTime": {
     "end_time": "2024-02-26T21:27:35.295476Z",
     "start_time": "2024-02-26T21:27:35.289339Z"
    }
   },
   "id": "dce99857286a3cdb",
   "execution_count": 25
  },
  {
   "cell_type": "code",
   "outputs": [
    {
     "data": {
      "text/plain": "tensor([[ 1.4277,  0.9194,  1.7564],\n        [ 1.4344, -0.1898,  0.4087]])"
     },
     "execution_count": 26,
     "metadata": {},
     "output_type": "execute_result"
    }
   ],
   "source": [
    "a"
   ],
   "metadata": {
    "collapsed": false,
    "ExecuteTime": {
     "end_time": "2024-02-26T21:27:38.406965Z",
     "start_time": "2024-02-26T21:27:38.401642Z"
    }
   },
   "id": "6bca2a7ec4ee7137",
   "execution_count": 26
  },
  {
   "cell_type": "code",
   "outputs": [
    {
     "data": {
      "text/plain": "torch.Size([2, 3])"
     },
     "execution_count": 27,
     "metadata": {},
     "output_type": "execute_result"
    }
   ],
   "source": [
    "a.shape"
   ],
   "metadata": {
    "collapsed": false,
    "ExecuteTime": {
     "end_time": "2024-02-26T21:27:47.403446Z",
     "start_time": "2024-02-26T21:27:47.397524Z"
    }
   },
   "id": "1b23f2db60ff8fd4",
   "execution_count": 27
  },
  {
   "cell_type": "code",
   "outputs": [
    {
     "data": {
      "text/plain": "2"
     },
     "execution_count": 28,
     "metadata": {},
     "output_type": "execute_result"
    }
   ],
   "source": [
    "a.size(0)"
   ],
   "metadata": {
    "collapsed": false,
    "ExecuteTime": {
     "end_time": "2024-02-26T21:27:57.063884Z",
     "start_time": "2024-02-26T21:27:57.060870Z"
    }
   },
   "id": "639f570cc0cb80dd",
   "execution_count": 28
  },
  {
   "cell_type": "code",
   "outputs": [
    {
     "data": {
      "text/plain": "3"
     },
     "execution_count": 29,
     "metadata": {},
     "output_type": "execute_result"
    }
   ],
   "source": [
    "a.size(1)"
   ],
   "metadata": {
    "collapsed": false,
    "ExecuteTime": {
     "end_time": "2024-02-26T21:28:30.070556Z",
     "start_time": "2024-02-26T21:28:30.065397Z"
    }
   },
   "id": "165ce71178f639f5",
   "execution_count": 29
  },
  {
   "cell_type": "code",
   "outputs": [
    {
     "data": {
      "text/plain": "3"
     },
     "execution_count": 31,
     "metadata": {},
     "output_type": "execute_result"
    }
   ],
   "source": [
    "a.shape[0]\n",
    "a.shape[1]"
   ],
   "metadata": {
    "collapsed": false,
    "ExecuteTime": {
     "end_time": "2024-02-26T21:28:50.424246Z",
     "start_time": "2024-02-26T21:28:50.420867Z"
    }
   },
   "id": "8647b558a1459b6c",
   "execution_count": 31
  },
  {
   "cell_type": "code",
   "outputs": [
    {
     "data": {
      "text/plain": "tensor([[[0.4336, 0.1537, 0.5737],\n         [0.6614, 0.1803, 0.2257]]])"
     },
     "execution_count": 32,
     "metadata": {},
     "output_type": "execute_result"
    }
   ],
   "source": [
    "a = torch.rand(1,2,3)\n",
    "a"
   ],
   "metadata": {
    "collapsed": false,
    "ExecuteTime": {
     "end_time": "2024-02-26T21:31:55.261109Z",
     "start_time": "2024-02-26T21:31:55.256085Z"
    }
   },
   "id": "199b09a03a8b4cdb",
   "execution_count": 32
  },
  {
   "cell_type": "code",
   "outputs": [
    {
     "data": {
      "text/plain": "[1, 2, 3]"
     },
     "execution_count": 33,
     "metadata": {},
     "output_type": "execute_result"
    }
   ],
   "source": [
    "list(a.shape)"
   ],
   "metadata": {
    "collapsed": false,
    "ExecuteTime": {
     "end_time": "2024-02-26T21:33:31.973538Z",
     "start_time": "2024-02-26T21:33:31.967200Z"
    }
   },
   "id": "8e6dda0a5bb8ac91",
   "execution_count": 33
  },
  {
   "cell_type": "code",
   "outputs": [
    {
     "data": {
      "text/plain": "tensor([[[[0.0920, 0.1888, 0.8892,  ..., 0.5509, 0.6408, 0.6020],\n          [0.0799, 0.8631, 0.1112,  ..., 0.5993, 0.5437, 0.2340],\n          [0.0330, 0.9817, 0.4983,  ..., 0.7006, 0.8949, 0.4064],\n          ...,\n          [0.7343, 0.8552, 0.4253,  ..., 0.6390, 0.1767, 0.3035],\n          [0.6860, 0.4564, 0.7817,  ..., 0.7040, 0.6537, 0.6920],\n          [0.3168, 0.7932, 0.5249,  ..., 0.1626, 0.1453, 0.4444]],\n\n         [[0.4154, 0.6167, 0.8677,  ..., 0.0776, 0.5989, 0.0053],\n          [0.6465, 0.5018, 0.3266,  ..., 0.5617, 0.5693, 0.2505],\n          [0.9153, 0.9276, 0.4650,  ..., 0.1799, 0.6647, 0.0518],\n          ...,\n          [0.9314, 0.8905, 0.4438,  ..., 0.4336, 0.8196, 0.2123],\n          [0.0351, 0.3184, 0.0958,  ..., 0.5043, 0.6400, 0.2230],\n          [0.4383, 0.0403, 0.2429,  ..., 0.8286, 0.4362, 0.9468]],\n\n         [[0.8203, 0.9083, 0.0758,  ..., 0.7260, 0.0808, 0.2262],\n          [0.3380, 0.5989, 0.3612,  ..., 0.6593, 0.5478, 0.4329],\n          [0.8181, 0.7021, 0.9676,  ..., 0.8868, 0.6476, 0.3450],\n          ...,\n          [0.6547, 0.0723, 0.4192,  ..., 0.6013, 0.8762, 0.6838],\n          [0.0451, 0.6468, 0.2274,  ..., 0.3437, 0.6841, 0.0397],\n          [0.6427, 0.1379, 0.3335,  ..., 0.5172, 0.6737, 0.4104]]],\n\n\n        [[[0.0635, 0.6558, 0.9595,  ..., 0.6811, 0.7421, 0.5521],\n          [0.5663, 0.5690, 0.0012,  ..., 0.2101, 0.3948, 0.7304],\n          [0.9261, 0.3396, 0.1620,  ..., 0.4968, 0.1791, 0.3125],\n          ...,\n          [0.9702, 0.7432, 0.5221,  ..., 0.2726, 0.7477, 0.4840],\n          [0.3554, 0.8998, 0.9101,  ..., 0.1567, 0.4609, 0.6916],\n          [0.8250, 0.7322, 0.7155,  ..., 0.6392, 0.1173, 0.0471]],\n\n         [[0.5599, 0.2676, 0.0837,  ..., 0.5827, 0.5588, 0.4318],\n          [0.1293, 0.0147, 0.4719,  ..., 0.6818, 0.1473, 0.8708],\n          [0.7232, 0.3181, 0.3962,  ..., 0.2728, 0.0954, 0.5922],\n          ...,\n          [0.9155, 0.7028, 0.8777,  ..., 0.2388, 0.3568, 0.6607],\n          [0.9053, 0.6020, 0.9622,  ..., 0.0309, 0.3785, 0.3024],\n          [0.8411, 0.2320, 0.4121,  ..., 0.0209, 0.4324, 0.5108]],\n\n         [[0.4656, 0.9485, 0.2906,  ..., 0.2980, 0.7380, 0.2716],\n          [0.8423, 0.0643, 0.0492,  ..., 0.4454, 0.1664, 0.2299],\n          [0.1992, 0.7941, 0.0263,  ..., 0.2497, 0.0765, 0.0337],\n          ...,\n          [0.2549, 0.0283, 0.5604,  ..., 0.6742, 0.8720, 0.0834],\n          [0.4600, 0.5839, 0.9882,  ..., 0.4606, 0.7230, 0.4181],\n          [0.4890, 0.1391, 0.3687,  ..., 0.9391, 0.9952, 0.4410]]]])"
     },
     "execution_count": 34,
     "metadata": {},
     "output_type": "execute_result"
    }
   ],
   "source": [
    "a = torch.rand(2,3,28,28)\n",
    "a"
   ],
   "metadata": {
    "collapsed": false,
    "ExecuteTime": {
     "end_time": "2024-02-26T21:34:58.737155Z",
     "start_time": "2024-02-26T21:34:58.713051Z"
    }
   },
   "id": "8b8055ff40dfa02b",
   "execution_count": 34
  },
  {
   "cell_type": "code",
   "outputs": [
    {
     "data": {
      "text/plain": "4704"
     },
     "execution_count": 36,
     "metadata": {},
     "output_type": "execute_result"
    }
   ],
   "source": [
    "a.numel()"
   ],
   "metadata": {
    "collapsed": false,
    "ExecuteTime": {
     "end_time": "2024-02-26T21:37:39.775522Z",
     "start_time": "2024-02-26T21:37:39.769690Z"
    }
   },
   "id": "97b16d207f2d4a91",
   "execution_count": 36
  },
  {
   "cell_type": "code",
   "outputs": [
    {
     "data": {
      "text/plain": "4"
     },
     "execution_count": 38,
     "metadata": {},
     "output_type": "execute_result"
    }
   ],
   "source": [
    "a.dim()"
   ],
   "metadata": {
    "collapsed": false,
    "ExecuteTime": {
     "end_time": "2024-02-26T21:37:57.260903Z",
     "start_time": "2024-02-26T21:37:57.258138Z"
    }
   },
   "id": "cbbb0670da647866",
   "execution_count": 38
  },
  {
   "cell_type": "code",
   "outputs": [
    {
     "data": {
      "text/plain": "1"
     },
     "execution_count": 40,
     "metadata": {},
     "output_type": "execute_result"
    }
   ],
   "source": [
    "a = torch.Tensor(1)\n",
    "a.dim()"
   ],
   "metadata": {
    "collapsed": false,
    "ExecuteTime": {
     "end_time": "2024-02-26T21:38:19.481868Z",
     "start_time": "2024-02-26T21:38:19.478279Z"
    }
   },
   "id": "849c6e8b2b60723d",
   "execution_count": 40
  },
  {
   "cell_type": "code",
   "outputs": [],
   "source": [],
   "metadata": {
    "collapsed": false
   },
   "id": "143ca087602b1d13"
  }
 ],
 "metadata": {
  "kernelspec": {
   "display_name": "Python 3",
   "language": "python",
   "name": "python3"
  },
  "language_info": {
   "codemirror_mode": {
    "name": "ipython",
    "version": 2
   },
   "file_extension": ".py",
   "mimetype": "text/x-python",
   "name": "python",
   "nbconvert_exporter": "python",
   "pygments_lexer": "ipython2",
   "version": "2.7.6"
  }
 },
 "nbformat": 4,
 "nbformat_minor": 5
}
